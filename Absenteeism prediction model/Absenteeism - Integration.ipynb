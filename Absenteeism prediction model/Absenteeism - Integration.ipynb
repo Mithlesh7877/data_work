{
 "cells": [
  {
   "cell_type": "code",
   "execution_count": 75,
   "metadata": {},
   "outputs": [],
   "source": [
    "from absenteeism_module import *\n"
   ]
  },
  {
   "cell_type": "code",
   "execution_count": 76,
   "metadata": {},
   "outputs": [],
   "source": [
    "model=absenteeism_model('model','scaler')\n",
    "model.load_and_clean_data(r'E:\\Python\\Absenteeism prediction model\\Data.csv')"
   ]
  },
  {
   "cell_type": "code",
   "execution_count": 77,
   "metadata": {},
   "outputs": [],
   "source": [
    "pred_df=model.predicted_outputs()"
   ]
  },
  {
   "cell_type": "code",
   "execution_count": 78,
   "metadata": {},
   "outputs": [
    {
     "data": {
      "text/html": [
       "<div>\n",
       "<style scoped>\n",
       "    .dataframe tbody tr th:only-of-type {\n",
       "        vertical-align: middle;\n",
       "    }\n",
       "\n",
       "    .dataframe tbody tr th {\n",
       "        vertical-align: top;\n",
       "    }\n",
       "\n",
       "    .dataframe thead th {\n",
       "        text-align: right;\n",
       "    }\n",
       "</style>\n",
       "<table border=\"1\" class=\"dataframe\">\n",
       "  <thead>\n",
       "    <tr style=\"text-align: right;\">\n",
       "      <th></th>\n",
       "      <th>Reason_1</th>\n",
       "      <th>Reason_2</th>\n",
       "      <th>Reason_3</th>\n",
       "      <th>Reason_4</th>\n",
       "      <th>Month Value</th>\n",
       "      <th>Transportation Expense</th>\n",
       "      <th>Age</th>\n",
       "      <th>Body Mass Index</th>\n",
       "      <th>Education</th>\n",
       "      <th>Children</th>\n",
       "      <th>Pet</th>\n",
       "      <th>Probability</th>\n",
       "      <th>Prediction</th>\n",
       "    </tr>\n",
       "  </thead>\n",
       "  <tbody>\n",
       "    <tr>\n",
       "      <th>0</th>\n",
       "      <td>0</td>\n",
       "      <td>0.0</td>\n",
       "      <td>0</td>\n",
       "      <td>1</td>\n",
       "      <td>6</td>\n",
       "      <td>179</td>\n",
       "      <td>30</td>\n",
       "      <td>19</td>\n",
       "      <td>1</td>\n",
       "      <td>0</td>\n",
       "      <td>0</td>\n",
       "      <td>0.122469</td>\n",
       "      <td>0</td>\n",
       "    </tr>\n",
       "    <tr>\n",
       "      <th>1</th>\n",
       "      <td>1</td>\n",
       "      <td>0.0</td>\n",
       "      <td>0</td>\n",
       "      <td>0</td>\n",
       "      <td>6</td>\n",
       "      <td>361</td>\n",
       "      <td>28</td>\n",
       "      <td>27</td>\n",
       "      <td>0</td>\n",
       "      <td>1</td>\n",
       "      <td>4</td>\n",
       "      <td>0.873365</td>\n",
       "      <td>1</td>\n",
       "    </tr>\n",
       "    <tr>\n",
       "      <th>2</th>\n",
       "      <td>0</td>\n",
       "      <td>0.0</td>\n",
       "      <td>0</td>\n",
       "      <td>1</td>\n",
       "      <td>6</td>\n",
       "      <td>155</td>\n",
       "      <td>34</td>\n",
       "      <td>25</td>\n",
       "      <td>0</td>\n",
       "      <td>2</td>\n",
       "      <td>0</td>\n",
       "      <td>0.266253</td>\n",
       "      <td>0</td>\n",
       "    </tr>\n",
       "    <tr>\n",
       "      <th>3</th>\n",
       "      <td>0</td>\n",
       "      <td>0.0</td>\n",
       "      <td>0</td>\n",
       "      <td>1</td>\n",
       "      <td>6</td>\n",
       "      <td>179</td>\n",
       "      <td>40</td>\n",
       "      <td>22</td>\n",
       "      <td>1</td>\n",
       "      <td>2</td>\n",
       "      <td>0</td>\n",
       "      <td>0.198570</td>\n",
       "      <td>0</td>\n",
       "    </tr>\n",
       "    <tr>\n",
       "      <th>4</th>\n",
       "      <td>1</td>\n",
       "      <td>0.0</td>\n",
       "      <td>0</td>\n",
       "      <td>0</td>\n",
       "      <td>6</td>\n",
       "      <td>155</td>\n",
       "      <td>34</td>\n",
       "      <td>25</td>\n",
       "      <td>0</td>\n",
       "      <td>2</td>\n",
       "      <td>0</td>\n",
       "      <td>0.720861</td>\n",
       "      <td>1</td>\n",
       "    </tr>\n",
       "  </tbody>\n",
       "</table>\n",
       "</div>"
      ],
      "text/plain": [
       "   Reason_1  Reason_2  Reason_3  Reason_4  Month Value  \\\n",
       "0         0       0.0         0         1            6   \n",
       "1         1       0.0         0         0            6   \n",
       "2         0       0.0         0         1            6   \n",
       "3         0       0.0         0         1            6   \n",
       "4         1       0.0         0         0            6   \n",
       "\n",
       "   Transportation Expense  Age  Body Mass Index  Education  Children  Pet  \\\n",
       "0                     179   30               19          1         0    0   \n",
       "1                     361   28               27          0         1    4   \n",
       "2                     155   34               25          0         2    0   \n",
       "3                     179   40               22          1         2    0   \n",
       "4                     155   34               25          0         2    0   \n",
       "\n",
       "   Probability  Prediction  \n",
       "0     0.122469           0  \n",
       "1     0.873365           1  \n",
       "2     0.266253           0  \n",
       "3     0.198570           0  \n",
       "4     0.720861           1  "
      ]
     },
     "execution_count": 78,
     "metadata": {},
     "output_type": "execute_result"
    }
   ],
   "source": [
    "pred_df.head()"
   ]
  },
  {
   "cell_type": "markdown",
   "metadata": {},
   "source": [
    "To connect notebook with sql use pymysql"
   ]
  },
  {
   "cell_type": "code",
   "execution_count": 79,
   "metadata": {},
   "outputs": [],
   "source": [
    "import pymysql"
   ]
  },
  {
   "cell_type": "code",
   "execution_count": 80,
   "metadata": {},
   "outputs": [],
   "source": [
    "connect=pymysql.connect(database='absenteeism_pred',user='root',password='7877@Kvjc')"
   ]
  },
  {
   "cell_type": "code",
   "execution_count": 81,
   "metadata": {},
   "outputs": [],
   "source": [
    "cursor=connect.cursor()"
   ]
  },
  {
   "cell_type": "code",
   "execution_count": 82,
   "metadata": {},
   "outputs": [
    {
     "data": {
      "text/plain": [
       "0"
      ]
     },
     "execution_count": 82,
     "metadata": {},
     "output_type": "execute_result"
    }
   ],
   "source": [
    "cursor.execute('select * from predicted_outputs')"
   ]
  },
  {
   "cell_type": "markdown",
   "metadata": {},
   "source": [
    "Insert values "
   ]
  },
  {
   "cell_type": "code",
   "execution_count": 83,
   "metadata": {},
   "outputs": [],
   "source": [
    "insert='insert into predicted_outputs values'"
   ]
  },
  {
   "cell_type": "code",
   "execution_count": 90,
   "metadata": {},
   "outputs": [
    {
     "data": {
      "text/plain": [
       "(40, 13)"
      ]
     },
     "execution_count": 90,
     "metadata": {},
     "output_type": "execute_result"
    }
   ],
   "source": [
    "pred_df.shape\n",
    "# for i in range(pred_df.shape[0]):\n",
    "#     for j in range(pred_df.shape[1]):\n",
    "#         print(pred_df.columns.values[j])"
   ]
  },
  {
   "cell_type": "code",
   "execution_count": 85,
   "metadata": {},
   "outputs": [],
   "source": [
    "for i in range(pred_df.shape[0]):\n",
    "    insert += '(' \n",
    "    \n",
    "    for j in range(pred_df.shape[1]):\n",
    "        insert += str(pred_df[pred_df.columns.values[j]][i]) + ', '\n",
    "    \n",
    "    insert = insert[:-2] + '), '  "
   ]
  },
  {
   "cell_type": "code",
   "execution_count": 86,
   "metadata": {},
   "outputs": [
    {
     "data": {
      "text/plain": [
       "'insert into predicted_outputs values(0, 0.0, 0, 1, 6, 179, 30, 19, 1, 0, 0, 0.12246899458488889, 0), (1, 0.0, 0, 0, 6, 361, 28, 27, 0, 1, 4, 0.8733647892012892, 1), (0, 0.0, 0, 1, 6, 155, 34, 25, 0, 2, 0, 0.26625344402536916, 0), (0, 0.0, 0, 1, 6, 179, 40, 22, 1, 2, 0, 0.19856972989119437, 0), (1, 0.0, 0, 0, 6, 155, 34, 25, 0, 2, 0, 0.7208612143664734, 1), (1, 0.0, 0, 0, 6, 225, 28, 24, 0, 1, 2, 0.7138174390774645, 1), (1, 0.0, 0, 0, 6, 118, 46, 25, 0, 2, 0, 0.5676722878553759, 1), (0, 0.0, 0, 1, 6, 179, 30, 19, 1, 0, 0, 0.12246899458488889, 0), (0, 0.0, 0, 1, 6, 118, 37, 28, 0, 0, 0, 0.1318699319549479, 0), (1, 0.0, 0, 0, 6, 118, 37, 28, 0, 0, 0, 0.5194719164745191, 1), (0, 0.0, 0, 1, 6, 378, 36, 21, 0, 2, 4, 0.4564962181061984, 0), (0, 0.0, 1, 0, 6, 118, 50, 31, 0, 1, 0, 0.6385275591832807, 1), (0, 0.0, 1, 0, 6, 233, 31, 21, 1, 1, 8, 0.34895114210248973, 0), (0, 0.0, 0, 1, 6, 179, 30, 19, 1, 0, 0, 0.12246899458488889, 0), (0, 0.0, 0, 0, 6, 235, 48, 33, 0, 1, 5, 0.0829935270190452, 0), (0, 0.0, 0, 0, 6, 268, 33, 25, 1, 0, 0, 0.16605986551711086, 0), (0, 0.0, 1, 0, 6, 118, 50, 31, 0, 1, 0, 0.6385275591832807, 1), (1, 0.0, 0, 0, 6, 179, 30, 19, 1, 0, 0, 0.4982995464918953, 0), (0, 0.0, 0, 1, 6, 291, 40, 25, 0, 1, 1, 0.38915470484591075, 0), (1, 0.0, 0, 0, 7, 179, 30, 19, 1, 0, 0, 0.4988843125506498, 0), (0, 0.0, 0, 1, 7, 118, 37, 28, 0, 0, 0, 0.132137941431769, 0), (0, 0.0, 0, 1, 7, 233, 31, 21, 1, 1, 8, 0.05193861568637232, 0), (1, 0.0, 0, 0, 7, 118, 37, 28, 0, 0, 0, 0.520055773502457, 1), (1, 0.0, 0, 0, 7, 118, 37, 28, 0, 0, 0, 0.520055773502457, 1), (0, 0.0, 0, 1, 7, 233, 31, 21, 1, 1, 8, 0.05193861568637232, 0), (0, 0.0, 0, 1, 7, 235, 43, 38, 0, 1, 0, 0.5143722492274612, 1), (0, 0.0, 1, 0, 7, 233, 31, 21, 1, 1, 8, 0.34948273249081063, 0), (1, 0.0, 0, 0, 7, 228, 58, 22, 0, 2, 1, 0.6334125701041, 1), (0, 0.0, 0, 1, 7, 118, 37, 28, 0, 0, 0, 0.132137941431769, 0), (1, 0.0, 0, 0, 7, 228, 58, 22, 0, 2, 1, 0.6334125701041, 1), (0, 0.0, 0, 1, 7, 189, 33, 25, 0, 2, 2, 0.24368269010251975, 0), (0, 0.0, 0, 1, 7, 118, 37, 28, 0, 0, 0, 0.132137941431769, 0), (0, 0.0, 0, 1, 7, 361, 28, 27, 0, 1, 4, 0.49273282566361226, 0), (0, 0.0, 0, 1, 7, 225, 28, 24, 0, 1, 2, 0.25997160132036257, 0), (1, 0.0, 0, 0, 7, 369, 31, 25, 0, 3, 0, 0.9668558205831882, 1), (1, 0.0, 0, 0, 7, 289, 33, 30, 0, 2, 1, 0.9126760303336102, 1), (1, 0.0, 0, 0, 7, 235, 37, 29, 1, 1, 1, 0.7498771686614305, 1), (0, 0.0, 0, 0, 7, 118, 40, 34, 0, 1, 8, 0.01942880967987502, 0), (0, 0.0, 0, 0, 7, 231, 39, 35, 0, 2, 2, 0.26287144339569873, 0), (0, 0.0, 0, 0, 7, 179, 53, 25, 0, 1, 1, 0.06484649016367713, 0), '"
      ]
     },
     "execution_count": 86,
     "metadata": {},
     "output_type": "execute_result"
    }
   ],
   "source": [
    "insert"
   ]
  },
  {
   "cell_type": "code",
   "execution_count": 87,
   "metadata": {},
   "outputs": [],
   "source": [
    "insert = insert[:-2] + ';'\n"
   ]
  },
  {
   "cell_type": "code",
   "execution_count": 88,
   "metadata": {},
   "outputs": [
    {
     "data": {
      "text/plain": [
       "'insert into predicted_outputs values(0, 0.0, 0, 1, 6, 179, 30, 19, 1, 0, 0, 0.12246899458488889, 0), (1, 0.0, 0, 0, 6, 361, 28, 27, 0, 1, 4, 0.8733647892012892, 1), (0, 0.0, 0, 1, 6, 155, 34, 25, 0, 2, 0, 0.26625344402536916, 0), (0, 0.0, 0, 1, 6, 179, 40, 22, 1, 2, 0, 0.19856972989119437, 0), (1, 0.0, 0, 0, 6, 155, 34, 25, 0, 2, 0, 0.7208612143664734, 1), (1, 0.0, 0, 0, 6, 225, 28, 24, 0, 1, 2, 0.7138174390774645, 1), (1, 0.0, 0, 0, 6, 118, 46, 25, 0, 2, 0, 0.5676722878553759, 1), (0, 0.0, 0, 1, 6, 179, 30, 19, 1, 0, 0, 0.12246899458488889, 0), (0, 0.0, 0, 1, 6, 118, 37, 28, 0, 0, 0, 0.1318699319549479, 0), (1, 0.0, 0, 0, 6, 118, 37, 28, 0, 0, 0, 0.5194719164745191, 1), (0, 0.0, 0, 1, 6, 378, 36, 21, 0, 2, 4, 0.4564962181061984, 0), (0, 0.0, 1, 0, 6, 118, 50, 31, 0, 1, 0, 0.6385275591832807, 1), (0, 0.0, 1, 0, 6, 233, 31, 21, 1, 1, 8, 0.34895114210248973, 0), (0, 0.0, 0, 1, 6, 179, 30, 19, 1, 0, 0, 0.12246899458488889, 0), (0, 0.0, 0, 0, 6, 235, 48, 33, 0, 1, 5, 0.0829935270190452, 0), (0, 0.0, 0, 0, 6, 268, 33, 25, 1, 0, 0, 0.16605986551711086, 0), (0, 0.0, 1, 0, 6, 118, 50, 31, 0, 1, 0, 0.6385275591832807, 1), (1, 0.0, 0, 0, 6, 179, 30, 19, 1, 0, 0, 0.4982995464918953, 0), (0, 0.0, 0, 1, 6, 291, 40, 25, 0, 1, 1, 0.38915470484591075, 0), (1, 0.0, 0, 0, 7, 179, 30, 19, 1, 0, 0, 0.4988843125506498, 0), (0, 0.0, 0, 1, 7, 118, 37, 28, 0, 0, 0, 0.132137941431769, 0), (0, 0.0, 0, 1, 7, 233, 31, 21, 1, 1, 8, 0.05193861568637232, 0), (1, 0.0, 0, 0, 7, 118, 37, 28, 0, 0, 0, 0.520055773502457, 1), (1, 0.0, 0, 0, 7, 118, 37, 28, 0, 0, 0, 0.520055773502457, 1), (0, 0.0, 0, 1, 7, 233, 31, 21, 1, 1, 8, 0.05193861568637232, 0), (0, 0.0, 0, 1, 7, 235, 43, 38, 0, 1, 0, 0.5143722492274612, 1), (0, 0.0, 1, 0, 7, 233, 31, 21, 1, 1, 8, 0.34948273249081063, 0), (1, 0.0, 0, 0, 7, 228, 58, 22, 0, 2, 1, 0.6334125701041, 1), (0, 0.0, 0, 1, 7, 118, 37, 28, 0, 0, 0, 0.132137941431769, 0), (1, 0.0, 0, 0, 7, 228, 58, 22, 0, 2, 1, 0.6334125701041, 1), (0, 0.0, 0, 1, 7, 189, 33, 25, 0, 2, 2, 0.24368269010251975, 0), (0, 0.0, 0, 1, 7, 118, 37, 28, 0, 0, 0, 0.132137941431769, 0), (0, 0.0, 0, 1, 7, 361, 28, 27, 0, 1, 4, 0.49273282566361226, 0), (0, 0.0, 0, 1, 7, 225, 28, 24, 0, 1, 2, 0.25997160132036257, 0), (1, 0.0, 0, 0, 7, 369, 31, 25, 0, 3, 0, 0.9668558205831882, 1), (1, 0.0, 0, 0, 7, 289, 33, 30, 0, 2, 1, 0.9126760303336102, 1), (1, 0.0, 0, 0, 7, 235, 37, 29, 1, 1, 1, 0.7498771686614305, 1), (0, 0.0, 0, 0, 7, 118, 40, 34, 0, 1, 8, 0.01942880967987502, 0), (0, 0.0, 0, 0, 7, 231, 39, 35, 0, 2, 2, 0.26287144339569873, 0), (0, 0.0, 0, 0, 7, 179, 53, 25, 0, 1, 1, 0.06484649016367713, 0);'"
      ]
     },
     "execution_count": 88,
     "metadata": {},
     "output_type": "execute_result"
    }
   ],
   "source": [
    "insert"
   ]
  },
  {
   "cell_type": "code",
   "execution_count": 92,
   "metadata": {},
   "outputs": [
    {
     "data": {
      "text/plain": [
       "40"
      ]
     },
     "execution_count": 92,
     "metadata": {},
     "output_type": "execute_result"
    }
   ],
   "source": [
    "cursor.execute(insert)"
   ]
  },
  {
   "cell_type": "code",
   "execution_count": 95,
   "metadata": {},
   "outputs": [],
   "source": [
    "connect.commit()"
   ]
  },
  {
   "cell_type": "code",
   "execution_count": 97,
   "metadata": {},
   "outputs": [],
   "source": [
    "connect.close()"
   ]
  },
  {
   "cell_type": "code",
   "execution_count": null,
   "metadata": {},
   "outputs": [],
   "source": []
  }
 ],
 "metadata": {
  "kernelspec": {
   "display_name": "Python 3",
   "language": "python",
   "name": "python3"
  },
  "language_info": {
   "codemirror_mode": {
    "name": "ipython",
    "version": 3
   },
   "file_extension": ".py",
   "mimetype": "text/x-python",
   "name": "python",
   "nbconvert_exporter": "python",
   "pygments_lexer": "ipython3",
   "version": "3.7.3"
  }
 },
 "nbformat": 4,
 "nbformat_minor": 2
}
